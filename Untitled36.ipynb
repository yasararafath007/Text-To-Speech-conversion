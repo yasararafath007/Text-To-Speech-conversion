{
  "nbformat": 4,
  "nbformat_minor": 0,
  "metadata": {
    "colab": {
      "provenance": [],
      "authorship_tag": "ABX9TyM9NbR2nWy2DgV9hFj5xjlX",
      "include_colab_link": true
    },
    "kernelspec": {
      "name": "python3",
      "display_name": "Python 3"
    },
    "language_info": {
      "name": "python"
    }
  },
  "cells": [
    {
      "cell_type": "markdown",
      "metadata": {
        "id": "view-in-github",
        "colab_type": "text"
      },
      "source": [
        "<a href=\"https://colab.research.google.com/github/yasararafath007/Text-To-Speech-conversion/blob/main/Untitled36.ipynb\" target=\"_parent\"><img src=\"https://colab.research.google.com/assets/colab-badge.svg\" alt=\"Open In Colab\"/></a>"
      ]
    },
    {
      "cell_type": "code",
      "execution_count": 1,
      "metadata": {
        "colab": {
          "base_uri": "https://localhost:8080/"
        },
        "id": "496gUQgjRGBD",
        "outputId": "55fd1df4-2666-4f72-ed60-c15d4c5ce788"
      },
      "outputs": [
        {
          "output_type": "stream",
          "name": "stdout",
          "text": [
            "Collecting gtts\n",
            "  Downloading gTTS-2.5.1-py3-none-any.whl (29 kB)\n",
            "Requirement already satisfied: requests<3,>=2.27 in /usr/local/lib/python3.10/dist-packages (from gtts) (2.31.0)\n",
            "Requirement already satisfied: click<8.2,>=7.1 in /usr/local/lib/python3.10/dist-packages (from gtts) (8.1.7)\n",
            "Requirement already satisfied: charset-normalizer<4,>=2 in /usr/local/lib/python3.10/dist-packages (from requests<3,>=2.27->gtts) (3.3.2)\n",
            "Requirement already satisfied: idna<4,>=2.5 in /usr/local/lib/python3.10/dist-packages (from requests<3,>=2.27->gtts) (3.6)\n",
            "Requirement already satisfied: urllib3<3,>=1.21.1 in /usr/local/lib/python3.10/dist-packages (from requests<3,>=2.27->gtts) (2.0.7)\n",
            "Requirement already satisfied: certifi>=2017.4.17 in /usr/local/lib/python3.10/dist-packages (from requests<3,>=2.27->gtts) (2024.2.2)\n",
            "Installing collected packages: gtts\n",
            "Successfully installed gtts-2.5.1\n"
          ]
        }
      ],
      "source": [
        "!pip install gtts"
      ]
    },
    {
      "cell_type": "code",
      "source": [
        "import pandas as pd\n",
        "from gtts import gTTS\n",
        "import re\n",
        "\n",
        "# Load the dataset\n",
        "dataset_path = \"text_audio_urls.csv.zip\"\n",
        "df = pd.read_csv(dataset_path)\n",
        "\n",
        "# Print the columns available in the dataset\n",
        "print(\"Columns available in the dataset:\")\n",
        "print(df.columns)\n",
        "\n",
        "# Ask the user to select the column containing text data\n",
        "selected_column = input(\"Enter the name of the column containing text data from the list above: \")\n",
        "\n",
        "# Check if the selected column exists in the DataFrame\n",
        "if selected_column not in df.columns:\n",
        "    print(\"Error: The specified column does not exist in the dataset.\")\n",
        "    exit()\n",
        "\n",
        "# Function to truncate text to the first 100 words\n",
        "def truncate_text(text):\n",
        "    words = re.findall(r'\\w+', text)\n",
        "    truncated_text = ' '.join(words[:100])\n",
        "    return truncated_text\n",
        "\n",
        "# Function to convert text to speech\n",
        "def text_to_speech(text, output_path):\n",
        "    tts = gTTS(text=text, lang='en')\n",
        "    tts.save(output_path)\n",
        "\n",
        "# Iterate through the DataFrame and convert text to speech\n",
        "for index, row in df.iterrows():\n",
        "    text = str(row[selected_column])  # Convert to string to handle non-string data\n",
        "    truncated_text = truncate_text(text)\n",
        "    output_path = f\"output_{index}.mp3\"  # You can customize the output file name\n",
        "    try:\n",
        "        text_to_speech(truncated_text, output_path)\n",
        "        print(f\"Text converted to speech and saved as {output_path}\")\n",
        "    except Exception as e:\n",
        "        print(f\"Error converting text to speech for row {index}: {e}\")\n",
        "\n",
        "    # Break out of the loop after converting 100 words\n",
        "    if index == 99:\n",
        "        break\n",
        "\n",
        "print(\"Text to speech conversion complete.\")\n"
      ],
      "metadata": {
        "colab": {
          "base_uri": "https://localhost:8080/"
        },
        "id": "JPocjL6iWaMG",
        "outputId": "72797218-a8bc-4b98-a91d-9540da6ea7b6"
      },
      "execution_count": 14,
      "outputs": [
        {
          "output_type": "stream",
          "name": "stdout",
          "text": [
            "Columns available in the dataset:\n",
            "Index(['Unnamed: 0', 'word', 'gb_audio_url', 'us_audio_url'], dtype='object')\n",
            "Enter the name of the column containing text data from the list above: word\n",
            "Text converted to speech and saved as output_0.mp3\n",
            "Text converted to speech and saved as output_1.mp3\n",
            "Text converted to speech and saved as output_2.mp3\n",
            "Text converted to speech and saved as output_3.mp3\n",
            "Text converted to speech and saved as output_4.mp3\n",
            "Text converted to speech and saved as output_5.mp3\n",
            "Text converted to speech and saved as output_6.mp3\n",
            "Text converted to speech and saved as output_7.mp3\n",
            "Text converted to speech and saved as output_8.mp3\n",
            "Text converted to speech and saved as output_9.mp3\n",
            "Text converted to speech and saved as output_10.mp3\n",
            "Text converted to speech and saved as output_11.mp3\n",
            "Text converted to speech and saved as output_12.mp3\n",
            "Text converted to speech and saved as output_13.mp3\n",
            "Text converted to speech and saved as output_14.mp3\n",
            "Text converted to speech and saved as output_15.mp3\n",
            "Text converted to speech and saved as output_16.mp3\n",
            "Text converted to speech and saved as output_17.mp3\n",
            "Text converted to speech and saved as output_18.mp3\n",
            "Text converted to speech and saved as output_19.mp3\n",
            "Text converted to speech and saved as output_20.mp3\n",
            "Text converted to speech and saved as output_21.mp3\n",
            "Text converted to speech and saved as output_22.mp3\n",
            "Text converted to speech and saved as output_23.mp3\n",
            "Text converted to speech and saved as output_24.mp3\n",
            "Text converted to speech and saved as output_25.mp3\n",
            "Text converted to speech and saved as output_26.mp3\n",
            "Text converted to speech and saved as output_27.mp3\n",
            "Text converted to speech and saved as output_28.mp3\n",
            "Text converted to speech and saved as output_29.mp3\n",
            "Text converted to speech and saved as output_30.mp3\n",
            "Text converted to speech and saved as output_31.mp3\n",
            "Text converted to speech and saved as output_32.mp3\n",
            "Text converted to speech and saved as output_33.mp3\n",
            "Text converted to speech and saved as output_34.mp3\n",
            "Text converted to speech and saved as output_35.mp3\n",
            "Text converted to speech and saved as output_36.mp3\n",
            "Text converted to speech and saved as output_37.mp3\n",
            "Text converted to speech and saved as output_38.mp3\n",
            "Text converted to speech and saved as output_39.mp3\n",
            "Text converted to speech and saved as output_40.mp3\n",
            "Text converted to speech and saved as output_41.mp3\n",
            "Text converted to speech and saved as output_42.mp3\n",
            "Text converted to speech and saved as output_43.mp3\n",
            "Text converted to speech and saved as output_44.mp3\n",
            "Text converted to speech and saved as output_45.mp3\n",
            "Text converted to speech and saved as output_46.mp3\n",
            "Text converted to speech and saved as output_47.mp3\n",
            "Text converted to speech and saved as output_48.mp3\n",
            "Text converted to speech and saved as output_49.mp3\n",
            "Text converted to speech and saved as output_50.mp3\n",
            "Text converted to speech and saved as output_51.mp3\n",
            "Text converted to speech and saved as output_52.mp3\n",
            "Text converted to speech and saved as output_53.mp3\n",
            "Text converted to speech and saved as output_54.mp3\n",
            "Text converted to speech and saved as output_55.mp3\n",
            "Text converted to speech and saved as output_56.mp3\n",
            "Text converted to speech and saved as output_57.mp3\n",
            "Text converted to speech and saved as output_58.mp3\n",
            "Text converted to speech and saved as output_59.mp3\n",
            "Text converted to speech and saved as output_60.mp3\n",
            "Text converted to speech and saved as output_61.mp3\n",
            "Text converted to speech and saved as output_62.mp3\n",
            "Text converted to speech and saved as output_63.mp3\n",
            "Text converted to speech and saved as output_64.mp3\n",
            "Text converted to speech and saved as output_65.mp3\n",
            "Text converted to speech and saved as output_66.mp3\n",
            "Text converted to speech and saved as output_67.mp3\n",
            "Text converted to speech and saved as output_68.mp3\n",
            "Text converted to speech and saved as output_69.mp3\n",
            "Text converted to speech and saved as output_70.mp3\n",
            "Text converted to speech and saved as output_71.mp3\n",
            "Text converted to speech and saved as output_72.mp3\n",
            "Text converted to speech and saved as output_73.mp3\n",
            "Text converted to speech and saved as output_74.mp3\n",
            "Text converted to speech and saved as output_75.mp3\n",
            "Text converted to speech and saved as output_76.mp3\n",
            "Text converted to speech and saved as output_77.mp3\n",
            "Text converted to speech and saved as output_78.mp3\n",
            "Text converted to speech and saved as output_79.mp3\n",
            "Text converted to speech and saved as output_80.mp3\n",
            "Text converted to speech and saved as output_81.mp3\n",
            "Text converted to speech and saved as output_82.mp3\n",
            "Text converted to speech and saved as output_83.mp3\n",
            "Text converted to speech and saved as output_84.mp3\n",
            "Text converted to speech and saved as output_85.mp3\n",
            "Text converted to speech and saved as output_86.mp3\n",
            "Text converted to speech and saved as output_87.mp3\n",
            "Text converted to speech and saved as output_88.mp3\n",
            "Text converted to speech and saved as output_89.mp3\n",
            "Text converted to speech and saved as output_90.mp3\n",
            "Text converted to speech and saved as output_91.mp3\n",
            "Text converted to speech and saved as output_92.mp3\n",
            "Text converted to speech and saved as output_93.mp3\n",
            "Text converted to speech and saved as output_94.mp3\n",
            "Text converted to speech and saved as output_95.mp3\n",
            "Text converted to speech and saved as output_96.mp3\n",
            "Text converted to speech and saved as output_97.mp3\n",
            "Text converted to speech and saved as output_98.mp3\n",
            "Text converted to speech and saved as output_99.mp3\n",
            "Text to speech conversion complete.\n"
          ]
        }
      ]
    }
  ]
}